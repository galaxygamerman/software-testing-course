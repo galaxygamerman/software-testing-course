{
  "nbformat": 4,
  "nbformat_minor": 0,
  "metadata": {
    "colab": {
      "provenance": [],
      "include_colab_link": true
    },
    "kernelspec": {
      "name": "python3",
      "display_name": "Python 3"
    },
    "language_info": {
      "name": "python"
    }
  },
  "cells": [
    {
      "cell_type": "markdown",
      "metadata": {
        "id": "view-in-github",
        "colab_type": "text"
      },
      "source": [
        "<a href=\"https://colab.research.google.com/github/galaxygamerman/software-testing-course/blob/main/twitter_sentiment_simple.ipynb\" target=\"_parent\"><img src=\"https://colab.research.google.com/assets/colab-badge.svg\" alt=\"Open In Colab\"/></a>"
      ]
    },
    {
      "cell_type": "code",
      "execution_count": null,
      "metadata": {
        "colab": {
          "base_uri": "https://localhost:8080/"
        },
        "id": "ScFEG6iM8M_1",
        "outputId": "866ca7a9-19c6-4da8-b036-b35e62549c54"
      },
      "outputs": [
        {
          "output_type": "stream",
          "name": "stderr",
          "text": [
            "[nltk_data] Downloading package stopwords to /root/nltk_data...\n",
            "[nltk_data]   Unzipping corpora/stopwords.zip.\n"
          ]
        }
      ],
      "source": [
        "import pandas as pd\n",
        "import re\n",
        "import nltk\n",
        "from nltk.corpus import stopwords\n",
        "from nltk.stem import PorterStemmer\n",
        "from sklearn.model_selection import train_test_split\n",
        "from sklearn.feature_extraction.text import TfidfVectorizer\n",
        "from sklearn.linear_model import LogisticRegression\n",
        "from sklearn.metrics import classification_report, confusion_matrix\n",
        "import seaborn as sns\n",
        "import matplotlib.pyplot as plt\n",
        "\n",
        "# Download stopwords once\n",
        "nltk.download('stopwords')\n",
        "\n",
        "# Load the dataset\n",
        "file_path = r\"twitter_training.csv\"\n",
        "data = pd.read_csv(file_path , header = None ,names=['number' , 'Border' , 'label' , 'message']) # Adjusting the column names\n",
        "data = data[['label', 'message']].dropna()\n"
      ]
    },
    {
      "cell_type": "code",
      "source": [
        "# Preprocessing function\n",
        "def clean_text(text):\n",
        "    text = text.lower()\n",
        "    text = re.sub(r\"http\\S+|www\\S+\", \"\", text)\n",
        "    text = re.sub(r\"[^a-zA-Z\\s]\", \"\", text)\n",
        "    words = text.split()\n",
        "    words = [word for word in words if word not in stopwords.words('english')]\n",
        "    stemmer = PorterStemmer()\n",
        "    words = [stemmer.stem(word) for word in words]\n",
        "    return \" \".join(words)\n",
        "\n",
        "# Clean the text column\n",
        "data['clean_text'] = data['message'].apply(clean_text)\n",
        "\n"
      ],
      "metadata": {
        "id": "9LR6cVpl_LIg"
      },
      "execution_count": null,
      "outputs": []
    },
    {
      "cell_type": "code",
      "source": [
        "data['label'] = data['label'].str.lower()\n",
        "print(data['label'].value_counts())\n",
        "print(\"Unique sentiment categories:\")\n",
        "print(data['label'].unique())\n",
        "# Step 2: Remove 'irrelevant'\n",
        "data = data[~data['label'].isin(['irrelevant'])]\n",
        "# Map sentiment to numbers\n",
        "data['label'] = data['label'].map({'positive': 1, 'neutral': 1, 'negative': -1})\n",
        "\n",
        "# Drop rows with NaN labels\n",
        "data = data.dropna(subset=['label'])\n",
        "\n",
        "# Count each category\n",
        "print(\"Label distribution:\")\n",
        "print(data['label'].value_counts())\n",
        "print(\"Unique sentiment categories:\")\n",
        "print(data['label'].unique())"
      ],
      "metadata": {
        "colab": {
          "base_uri": "https://localhost:8080/"
        },
        "id": "4QipCzjTBOCz",
        "outputId": "512ca400-e750-4c47-d4a2-ecf8298d7520"
      },
      "execution_count": null,
      "outputs": [
        {
          "output_type": "stream",
          "name": "stdout",
          "text": [
            "label\n",
            "negative      22358\n",
            "positive      20655\n",
            "neutral       18108\n",
            "irrelevant    12875\n",
            "Name: count, dtype: int64\n",
            "Unique sentiment categories:\n",
            "['positive' 'neutral' 'negative' 'irrelevant']\n",
            "Label distribution:\n",
            "label\n",
            " 1    38763\n",
            "-1    22358\n",
            "Name: count, dtype: int64\n",
            "Unique sentiment categories:\n",
            "[ 1 -1]\n"
          ]
        }
      ]
    },
    {
      "cell_type": "code",
      "source": [
        "# TF-IDF Vectorization\n",
        "vectorizer = TfidfVectorizer()\n",
        "X = vectorizer.fit_transform(data['clean_text'])\n",
        "y = data['label']\n",
        "\n"
      ],
      "metadata": {
        "id": "h2qGLFvW_Qcs"
      },
      "execution_count": null,
      "outputs": []
    },
    {
      "cell_type": "code",
      "source": [
        "# Train/test split\n",
        "X_train, X_test, y_train, y_test = train_test_split(X, y, test_size=0.2, random_state=42)\n",
        "\n",
        "# Train model\n",
        "model = LogisticRegression(max_iter=1000)\n",
        "model.fit(X_train, y_train)\n",
        "\n",
        "# Predict and evaluate\n",
        "y_pred = model.predict(X_test)\n",
        "print(classification_report(y_test, y_pred))\n",
        "\n",
        "# Confusion matrix\n",
        "conf_matrix = confusion_matrix(y_test, y_pred)\n",
        "\n",
        "# Plot with TP/TN/FP/FN in mind\n",
        "sns.heatmap(\n",
        "    conf_matrix,\n",
        "    annot=True,\n",
        "    fmt='d',\n",
        "    xticklabels=['Predicted: Negative', 'Predicted: Positive'],\n",
        "    yticklabels=['Actual: Negative', 'Actual: Positive']\n",
        ")\n",
        "plt.xlabel(\"Prediction\")\n",
        "plt.ylabel(\"Actual\")\n",
        "plt.title(\"Confusion Matrix: TP, TN, FP, FN View\")\n",
        "plt.show()"
      ],
      "metadata": {
        "colab": {
          "base_uri": "https://localhost:8080/",
          "height": 628
        },
        "id": "1mFLkWN1_Sy9",
        "outputId": "6a3d9126-c46f-4ae6-fe01-b752674ea7db"
      },
      "execution_count": null,
      "outputs": [
        {
          "output_type": "stream",
          "name": "stdout",
          "text": [
            "              precision    recall  f1-score   support\n",
            "\n",
            "          -1       0.86      0.73      0.79      4427\n",
            "           1       0.86      0.93      0.89      7798\n",
            "\n",
            "    accuracy                           0.86     12225\n",
            "   macro avg       0.86      0.83      0.84     12225\n",
            "weighted avg       0.86      0.86      0.86     12225\n",
            "\n"
          ]
        },
        {
          "output_type": "display_data",
          "data": {
            "text/plain": [
              "<Figure size 640x480 with 2 Axes>"
            ],
            "image/png": "[encoded data removed]"
          },
          "metadata": {}
        }
      ]
    },
    {
      "cell_type": "code",
      "source": [
        "from sklearn.metrics import accuracy_score\n",
        "\n",
        "accuracy = accuracy_score(y_test, y_pred)\n",
        "print(f\"Model Accuracy: {accuracy:.2f}\")"
      ],
      "metadata": {
        "colab": {
          "base_uri": "https://localhost:8080/"
        },
        "id": "o7pvYlOBFRcn",
        "outputId": "c3ae4a1c-6d67-42d0-afc2-69974eece16e"
      },
      "execution_count": null,
      "outputs": [
        {
          "output_type": "stream",
          "name": "stdout",
          "text": [
            "Model Accuracy: 0.86\n"
          ]
        }
      ]
    },
    {
      "cell_type": "code",
      "source": [
        "# Sample test messages\n",
        "sample_messages = [\n",
        "    \"I love this product! Totally worth it.\",\n",
        "    \"This is the worst service I’ve ever experienced.\",\n",
        "    \"Not bad, could be better.\",\n",
        "    \"What is this even supposed to be?\",\n",
        "    \"Absolutely amazing experience!\",\n",
        "    \"Even if i was offered a million dollars to play this game, i wouldn't.\", # negative + hyperboly\n",
        "    \"I wish I had paid for this game, I feel bad for pirating it.\"  # positive + guilty\n",
        "]\n",
        "\n",
        "# Preprocess sample messages\n",
        "clean_samples = [clean_text(msg) for msg in sample_messages]\n",
        "\n",
        "# Convert to vector using the same TF-IDF vectorizer\n",
        "sample_vectors = vectorizer.transform(clean_samples)\n",
        "\n",
        "# Predict using trained model\n",
        "sample_preds = model.predict(sample_vectors)\n",
        "\n",
        "# Display results\n",
        "for msg, pred in zip(sample_messages, sample_preds):\n",
        "    label = {1: \"Positive\", -1: \"Negative\"}.get(pred, \"Unknown\")\n",
        "    print(f\"Message: {msg}\\nPredicted Sentiment: {label}\\n\")\n"
      ],
      "metadata": {
        "colab": {
          "base_uri": "https://localhost:8080/"
        },
        "id": "G57ouu8aFZ0G",
        "outputId": "35fa93b9-ba97-4853-b76c-a746be221b0f"
      },
      "execution_count": 10,
      "outputs": [
        {
          "output_type": "stream",
          "name": "stdout",
          "text": [
            "Message: I love this product! Totally worth it.\n",
            "Predicted Sentiment: Positive\n",
            "\n",
            "Message: This is the worst service I’ve ever experienced.\n",
            "Predicted Sentiment: Negative\n",
            "\n",
            "Message: Not bad, could be better.\n",
            "Predicted Sentiment: Negative\n",
            "\n",
            "Message: What is this even supposed to be?\n",
            "Predicted Sentiment: Negative\n",
            "\n",
            "Message: Absolutely amazing experience!\n",
            "Predicted Sentiment: Positive\n",
            "\n",
            "Message: Even if i was offered a million dollars to play this game, i wouldn't.\n",
            "Predicted Sentiment: Positive\n",
            "\n",
            "Message: I wish I had paid for this game, I feel bad for pirating it.\n",
            "Predicted Sentiment: Negative\n",
            "\n"
          ]
        }
      ]
    },
    {
      "cell_type": "code",
      "source": [
        "sample_tweets = [\n",
        "    \"Love this phone 😍🔥\",                          # emoji\n",
        "    \"Ths prduct is amazng!\",                        # misspelling\n",
        "    \"Oh great, another update that broke everything\",  # sarcasm\n",
        "    \"Bad\",                                           # very short\n",
        "    \"Good\",\n",
        "    \"This product is absolutely, unequivocally, the worst and most disappointing experience of my life so far.\",  # long + negative\n",
        "    \"This thing is the kind of game that even Elon would stay away from.\",  # negative + joke\n",
        "    \"I would blow the devs just to show my appreciation for them\" # inappropriate language\n",
        "]\n",
        "# Preprocess\n",
        "cleaned_samples = [clean_text(msg) for msg in sample_tweets]\n",
        "\n",
        "# Vectorize\n",
        "sample_vecs = vectorizer.transform(cleaned_samples)\n",
        "\n",
        "# Predict\n",
        "sample_preds = model.predict(sample_vecs)\n",
        "\n",
        "# Display results using consistent label map\n",
        "for msg, pred in zip(sample_tweets, sample_preds):\n",
        "    label = {1: \"Positive\", -1: \"Negative\"}.get(pred, \"Unknown\")\n",
        "    print(f\"Message: {msg}\\nPredicted Sentiment: {label}\\n\")"
      ],
      "metadata": {
        "colab": {
          "base_uri": "https://localhost:8080/"
        },
        "id": "GzwMO73DIvt3",
        "outputId": "181cfe1c-6e86-4697-a70e-1b39dd603416"
      },
      "execution_count": 13,
      "outputs": [
        {
          "output_type": "stream",
          "name": "stdout",
          "text": [
            "Message: Love this phone 😍🔥\n",
            "Predicted Sentiment: Positive\n",
            "\n",
            "Message: Ths prduct is amazng!\n",
            "Predicted Sentiment: Positive\n",
            "\n",
            "Message: Oh great, another update that broke everything\n",
            "Predicted Sentiment: Positive\n",
            "\n",
            "Message: Bad\n",
            "Predicted Sentiment: Negative\n",
            "\n",
            "Message: Good\n",
            "Predicted Sentiment: Positive\n",
            "\n",
            "Message: This product is absolutely, unequivocally, the worst and most disappointing experience of my life so far.\n",
            "Predicted Sentiment: Negative\n",
            "\n",
            "Message: This thing is the kind of game that even Elon would stay away from.\n",
            "Predicted Sentiment: Negative\n",
            "\n",
            "Message: I would blow the devs just to show my appreciation for them\n",
            "Predicted Sentiment: Positive\n",
            "\n"
          ]
        }
      ]
    },
    {
      "cell_type": "code",
      "source": [
        "sample_noisy = [\n",
        "    \"Thisss phonee is amaaazing!!!\",     # repeated characters\n",
        "    \"I l0ve thiss!!\",                    # number used for letter\n",
        "    \"The update...ughhh broke it ag@in\", # random symbols\n",
        "    \"!!!\",\n",
        "    \"???\",\n",
        "    \"Binod\",                             # spam\n",
        "    \"Lorem ipsum dolor sit amet consectetur adipiscing elit. Quisque faucibus ex sapien vitae pellentesque sem placerat. In id cursus mi pretium tellus duis convallis. Tempus leo eu aenean sed diam urna tempor. Pulvinar vivamus fringilla lacus nec metus bibendum egestas. Iaculis massa nisl malesuada lacinia integer nunc posuere. Ut hendrerit semper vel class aptent taciti sociosqu. Ad litora torquent per conubia nostra inceptos himenaeos.\"\n",
        "]\n",
        "\n",
        "# Preprocess\n",
        "cleaned_samples = [clean_text(msg) for msg in sample_noisy]\n",
        "\n",
        "# Vectorize\n",
        "sample_vecs = vectorizer.transform(cleaned_samples)\n",
        "\n",
        "# Predict\n",
        "sample_preds = model.predict(sample_vecs)\n",
        "\n",
        "# Display results using consistent label map\n",
        "for msg, pred in zip(sample_noisy, sample_preds):\n",
        "    label = {1: \"Positive\", -1: \"Negative\"}.get(pred, \"Unknown\")\n",
        "    print(f\"Message: {msg}\\nPredicted Sentiment: {label}\\n\")"
      ],
      "metadata": {
        "colab": {
          "base_uri": "https://localhost:8080/"
        },
        "id": "zLkzHcq_K17C",
        "outputId": "6e2fce56-734c-424b-8c4e-7e7182349966"
      },
      "execution_count": 12,
      "outputs": [
        {
          "output_type": "stream",
          "name": "stdout",
          "text": [
            "Message: Thisss phonee is amaaazing!!!\n",
            "Predicted Sentiment: Positive\n",
            "\n",
            "Message: I l0ve thiss!!\n",
            "Predicted Sentiment: Positive\n",
            "\n",
            "Message: The update...ughhh broke it ag@in\n",
            "Predicted Sentiment: Negative\n",
            "\n",
            "Message: !!!\n",
            "Predicted Sentiment: Positive\n",
            "\n",
            "Message: ???\n",
            "Predicted Sentiment: Positive\n",
            "\n",
            "Message: Binod\n",
            "Predicted Sentiment: Positive\n",
            "\n",
            "Message: Lorem ipsum dolor sit amet consectetur adipiscing elit. Quisque faucibus ex sapien vitae pellentesque sem placerat. In id cursus mi pretium tellus duis convallis. Tempus leo eu aenean sed diam urna tempor. Pulvinar vivamus fringilla lacus nec metus bibendum egestas. Iaculis massa nisl malesuada lacinia integer nunc posuere. Ut hendrerit semper vel class aptent taciti sociosqu. Ad litora torquent per conubia nostra inceptos himenaeos.\n",
            "Predicted Sentiment: Positive\n",
            "\n"
          ]
        }
      ]
    }
  ]
}